{
 "cells": [
  {
   "cell_type": "code",
   "execution_count": 1,
   "id": "8aeabbf5",
   "metadata": {},
   "outputs": [
    {
     "name": "stdout",
     "output_type": "stream",
     "text": [
      "Requirement already satisfied: torch in /Users/_jadmin/opt/anaconda3/lib/python3.9/site-packages (1.8.1)\r\n",
      "Requirement already satisfied: torchtext in /Users/_jadmin/opt/anaconda3/lib/python3.9/site-packages (0.4.0)\r\n",
      "Requirement already satisfied: typing-extensions in /Users/_jadmin/opt/anaconda3/lib/python3.9/site-packages (from torch) (4.12.2)\r\n",
      "Requirement already satisfied: numpy in /Users/_jadmin/opt/anaconda3/lib/python3.9/site-packages (from torch) (1.26.4)\r\n",
      "Requirement already satisfied: tqdm in /Users/_jadmin/opt/anaconda3/lib/python3.9/site-packages (from torchtext) (4.65.0)\r\n",
      "Requirement already satisfied: requests in /Users/_jadmin/opt/anaconda3/lib/python3.9/site-packages (from torchtext) (2.31.0)\r\n",
      "Requirement already satisfied: six in /Users/_jadmin/opt/anaconda3/lib/python3.9/site-packages (from torchtext) (1.16.0)\r\n",
      "Requirement already satisfied: charset-normalizer<4,>=2 in /Users/_jadmin/opt/anaconda3/lib/python3.9/site-packages (from requests->torchtext) (2.0.4)\r\n",
      "Requirement already satisfied: idna<4,>=2.5 in /Users/_jadmin/opt/anaconda3/lib/python3.9/site-packages (from requests->torchtext) (3.4)\r\n",
      "Requirement already satisfied: urllib3<3,>=1.21.1 in /Users/_jadmin/opt/anaconda3/lib/python3.9/site-packages (from requests->torchtext) (1.26.18)\r\n",
      "Requirement already satisfied: certifi>=2017.4.17 in /Users/_jadmin/opt/anaconda3/lib/python3.9/site-packages (from requests->torchtext) (2023.7.22)\r\n"
     ]
    }
   ],
   "source": [
    "!pip install torch torchtext"
   ]
  },
  {
   "cell_type": "code",
   "execution_count": 30,
   "id": "94245c73",
   "metadata": {},
   "outputs": [
    {
     "ename": "ModuleNotFoundError",
     "evalue": "No module named 'torchtext.legacy'",
     "output_type": "error",
     "traceback": [
      "\u001b[0;31m---------------------------------------------------------------------------\u001b[0m",
      "\u001b[0;31mModuleNotFoundError\u001b[0m                       Traceback (most recent call last)",
      "Cell \u001b[0;32mIn[30], line 4\u001b[0m\n\u001b[1;32m      2\u001b[0m \u001b[38;5;28;01mimport\u001b[39;00m \u001b[38;5;21;01mtorch\u001b[39;00m\u001b[38;5;21;01m.\u001b[39;00m\u001b[38;5;21;01mnn\u001b[39;00m \u001b[38;5;28;01mas\u001b[39;00m \u001b[38;5;21;01mnn\u001b[39;00m\n\u001b[1;32m      3\u001b[0m \u001b[38;5;28;01mimport\u001b[39;00m \u001b[38;5;21;01mtorch\u001b[39;00m\u001b[38;5;21;01m.\u001b[39;00m\u001b[38;5;21;01moptim\u001b[39;00m \u001b[38;5;28;01mas\u001b[39;00m \u001b[38;5;21;01moptim\u001b[39;00m\n\u001b[0;32m----> 4\u001b[0m \u001b[38;5;28;01mfrom\u001b[39;00m \u001b[38;5;21;01mtorchtext\u001b[39;00m\u001b[38;5;21;01m.\u001b[39;00m\u001b[38;5;21;01mlegacy\u001b[39;00m\u001b[38;5;21;01m.\u001b[39;00m\u001b[38;5;21;01mdata\u001b[39;00m \u001b[38;5;28;01mimport\u001b[39;00m Field, LabelField, BucketIterator\n\u001b[1;32m      5\u001b[0m \u001b[38;5;28;01mfrom\u001b[39;00m \u001b[38;5;21;01mtorchtext\u001b[39;00m\u001b[38;5;21;01m.\u001b[39;00m\u001b[38;5;21;01mlegacy\u001b[39;00m \u001b[38;5;28;01mimport\u001b[39;00m datasets\n",
      "\u001b[0;31mModuleNotFoundError\u001b[0m: No module named 'torchtext.legacy'"
     ]
    }
   ],
   "source": [
    "import torch\n",
    "import torch.nn as nn\n",
    "import torch.optim as optim\n",
    "from torchtext.datasets import SST\n",
    "from torchtext.data.utils import get_tokenizer\n",
    "from torchtext.vocab import GloVe\n",
    "from torch.utils.data import DataLoader\n",
    "from torch.nn.utils.rnn import pad_sequence"
   ]
  },
  {
   "cell_type": "code",
   "execution_count": 21,
   "id": "2b6f2ff8",
   "metadata": {},
   "outputs": [],
   "source": [
    "# デバイスの設定\n",
    "device = torch.device('cuda' if torch.cuda.is_available() else 'cpu')"
   ]
  },
  {
   "cell_type": "code",
   "execution_count": 24,
   "id": "2ccf8dac",
   "metadata": {},
   "outputs": [],
   "source": [
    "# トークン化の設定\n",
    "tokenizer = get_tokenizer('spacy', language='en_core_web_sm')"
   ]
  },
  {
   "cell_type": "code",
   "execution_count": 25,
   "id": "85b1560d",
   "metadata": {},
   "outputs": [
    {
     "name": "stderr",
     "output_type": "stream",
     "text": [
      ".vector_cache/glove.6B.zip: 862MB [11:20, 1.27MB/s]\n",
      "100%|▉| 399999/400000 [00:08<00:00, 494\n"
     ]
    }
   ],
   "source": [
    "# GloVeの埋め込みベクトルをロード\n",
    "glove = GloVe(name='6B', dim=100)"
   ]
  },
  {
   "cell_type": "code",
   "execution_count": 26,
   "id": "837d394b",
   "metadata": {},
   "outputs": [],
   "source": [
    "# テキストの前処理とパディング関数\n",
    "def text_pipeline(x):\n",
    "    return [glove.stoi[token] if token in glove.stoi else 0 for token in tokenizer(x)]"
   ]
  },
  {
   "cell_type": "code",
   "execution_count": 27,
   "id": "0ff55371",
   "metadata": {},
   "outputs": [
    {
     "ename": "TypeError",
     "evalue": "__init__() missing 3 required positional arguments: 'path', 'text_field', and 'label_field'",
     "output_type": "error",
     "traceback": [
      "\u001b[0;31m---------------------------------------------------------------------------\u001b[0m",
      "\u001b[0;31mTypeError\u001b[0m                                 Traceback (most recent call last)",
      "Cell \u001b[0;32mIn[27], line 2\u001b[0m\n\u001b[1;32m      1\u001b[0m \u001b[38;5;66;03m# データセットのダウンロード\u001b[39;00m\n\u001b[0;32m----> 2\u001b[0m train_iter \u001b[38;5;241m=\u001b[39m \u001b[43mSST\u001b[49m\u001b[43m(\u001b[49m\u001b[43msplit\u001b[49m\u001b[38;5;241;43m=\u001b[39;49m\u001b[38;5;124;43m'\u001b[39;49m\u001b[38;5;124;43mtrain\u001b[39;49m\u001b[38;5;124;43m'\u001b[39;49m\u001b[43m)\u001b[49m\n\u001b[1;32m      3\u001b[0m valid_iter \u001b[38;5;241m=\u001b[39m SST(split\u001b[38;5;241m=\u001b[39m\u001b[38;5;124m'\u001b[39m\u001b[38;5;124mdev\u001b[39m\u001b[38;5;124m'\u001b[39m)\n\u001b[1;32m      4\u001b[0m test_iter \u001b[38;5;241m=\u001b[39m SST(split\u001b[38;5;241m=\u001b[39m\u001b[38;5;124m'\u001b[39m\u001b[38;5;124mtest\u001b[39m\u001b[38;5;124m'\u001b[39m)\n",
      "\u001b[0;31mTypeError\u001b[0m: __init__() missing 3 required positional arguments: 'path', 'text_field', and 'label_field'"
     ]
    }
   ],
   "source": [
    "# データセットのダウンロード\n",
    "train_iter = SST(split='train')\n",
    "valid_iter = SST(split='dev')\n",
    "test_iter = SST(split='test')"
   ]
  },
  {
   "cell_type": "code",
   "execution_count": null,
   "id": "3dd6f11f",
   "metadata": {},
   "outputs": [],
   "source": []
  }
 ],
 "metadata": {
  "kernelspec": {
   "display_name": "Python 3 (ipykernel)",
   "language": "python",
   "name": "python3"
  },
  "language_info": {
   "codemirror_mode": {
    "name": "ipython",
    "version": 3
   },
   "file_extension": ".py",
   "mimetype": "text/x-python",
   "name": "python",
   "nbconvert_exporter": "python",
   "pygments_lexer": "ipython3",
   "version": "3.9.18"
  }
 },
 "nbformat": 4,
 "nbformat_minor": 5
}
